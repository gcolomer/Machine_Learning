{
 "cells": [
  {
   "cell_type": "markdown",
   "metadata": {},
   "source": [
    "# Lab 2\n",
    "# Parametric regression\n",
    "# ---------------------------------------------------"
   ]
  },
  {
   "cell_type": "markdown",
   "metadata": {},
   "source": [
    "<h2>Table of Contents</h2>\n",
    "\n",
    "<div class=\"alert alert-block alert-info\" style=\"margin-top: 20px\">\n",
    "<ol>\n",
    "    <li> Introduction </li>\n",
    "    <li> Cross Validation </li>\n",
    "    <li> Simple Linear Regression </li>\n",
    "    <li> Multiple Linear Regression </li>\n",
    "    <li> Non-Linear Regression </li>\n",
    "    <li> Linear Regression with Regularization </li>\n",
    "    <li> Comparison of the results obtained with the different models </li>\n",
    "</ol>\n",
    "\n",
    "</div>\n",
    "\n",
    "<hr>\n"
   ]
  },
  {
   "cell_type": "markdown",
   "metadata": {},
   "source": [
    "## 1. Introduction\n",
    "\n",
    "Suppose you want to build a parametric regression model on a set of cases, where each case is described in terms of several variables. Without knowing anything else about the data set, give a reasoned justification:\n",
    "\n",
    "a) Explain in your own words what is the main difference between supervised and unsupervised learning methods.  Give an example of the application of each type of method. Describe briefly the input and output variables you would consider in each example.\n",
    "\n",
    "b) Explain in your own words the main difference between a linear and a non-linear model\n",
    "\n",
    "c)  Explain the concept of overfitting and generalization. If you wish, you can support your answer with an outline or drawing. Explain in your own words how you could get the designed model to generalize well.\n"
   ]
  },
  {
   "cell_type": "markdown",
   "metadata": {},
   "source": [
    "For the development of this second practice, the database \"Pima Indian Diabetes\" already pre-processed will be analyzed, where the rows of the file correspond to the cases and the columns to the variables.\n",
    "\n",
    "For this practice, the data will be divided into two subsets: training and test. In addition, the validation scheme called k-fold cross validation will be considered."
   ]
  },
  {
   "cell_type": "markdown",
   "metadata": {},
   "source": [
    "#### Note that in this data et the goal is to predict, based on diagnostic measurements, whether a patient has diabetes. However, in this lab, we will deal with a regression task, this is, we will change the output"
   ]
  },
  {
   "cell_type": "markdown",
   "metadata": {},
   "source": [
    "## 2. Cross-validatioin\n",
    "\n",
    "For this practice, the validation scheme called k-fold cross validation will be considered. Remember that in this approach, the available cases are randomly divided into k subsets of the same size called \"folds\".\n",
    "\n",
    "a) Indicate what a k-fold cross-validation scheme can be used for.\n",
    "\n",
    "b) Justify reasonably which models will need to follow a cross-validation scheme.\n",
    "\n",
    "c) As discussed in the theoretical classes, it is common in health to have a different number of cases in each class (unbalanced classes). Taking into account the database of this practice, please explain in detail the figure of merit you would consider in order to analyze the results with different parametric schemes.\n"
   ]
  },
  {
   "cell_type": "code",
   "execution_count": 1,
   "metadata": {},
   "outputs": [],
   "source": [
    "from sklearn.model_selection import cross_val_score\n",
    "from sklearn import model_selection   \n",
    "from sklearn.model_selection import KFold, cross_val_score, train_test_split\n",
    "from sklearn import metrics\n",
    "import pandas as pd\n",
    "import numpy as np\n",
    "import seaborn as sns\n",
    "import matplotlib\n",
    "from matplotlib import pyplot as plt"
   ]
  },
  {
   "cell_type": "code",
   "execution_count": 2,
   "metadata": {},
   "outputs": [
    {
     "data": {
      "text/html": [
       "<div>\n",
       "<style scoped>\n",
       "    .dataframe tbody tr th:only-of-type {\n",
       "        vertical-align: middle;\n",
       "    }\n",
       "\n",
       "    .dataframe tbody tr th {\n",
       "        vertical-align: top;\n",
       "    }\n",
       "\n",
       "    .dataframe thead th {\n",
       "        text-align: right;\n",
       "    }\n",
       "</style>\n",
       "<table border=\"1\" class=\"dataframe\">\n",
       "  <thead>\n",
       "    <tr style=\"text-align: right;\">\n",
       "      <th></th>\n",
       "      <th>Pregnancies</th>\n",
       "      <th>Glucose</th>\n",
       "      <th>BloodPressure</th>\n",
       "      <th>SkinThickness</th>\n",
       "      <th>Insulin</th>\n",
       "      <th>BMI</th>\n",
       "      <th>DiabetesPedigreeFunction</th>\n",
       "      <th>Age</th>\n",
       "      <th>Outcome</th>\n",
       "    </tr>\n",
       "  </thead>\n",
       "  <tbody>\n",
       "    <tr>\n",
       "      <th>0</th>\n",
       "      <td>6</td>\n",
       "      <td>148</td>\n",
       "      <td>72</td>\n",
       "      <td>35</td>\n",
       "      <td>0</td>\n",
       "      <td>33.6</td>\n",
       "      <td>0.627</td>\n",
       "      <td>50</td>\n",
       "      <td>1</td>\n",
       "    </tr>\n",
       "    <tr>\n",
       "      <th>1</th>\n",
       "      <td>1</td>\n",
       "      <td>85</td>\n",
       "      <td>66</td>\n",
       "      <td>29</td>\n",
       "      <td>0</td>\n",
       "      <td>26.6</td>\n",
       "      <td>0.351</td>\n",
       "      <td>31</td>\n",
       "      <td>0</td>\n",
       "    </tr>\n",
       "    <tr>\n",
       "      <th>2</th>\n",
       "      <td>8</td>\n",
       "      <td>183</td>\n",
       "      <td>64</td>\n",
       "      <td>0</td>\n",
       "      <td>0</td>\n",
       "      <td>23.3</td>\n",
       "      <td>0.672</td>\n",
       "      <td>32</td>\n",
       "      <td>1</td>\n",
       "    </tr>\n",
       "    <tr>\n",
       "      <th>3</th>\n",
       "      <td>1</td>\n",
       "      <td>89</td>\n",
       "      <td>66</td>\n",
       "      <td>23</td>\n",
       "      <td>94</td>\n",
       "      <td>28.1</td>\n",
       "      <td>0.167</td>\n",
       "      <td>21</td>\n",
       "      <td>0</td>\n",
       "    </tr>\n",
       "    <tr>\n",
       "      <th>4</th>\n",
       "      <td>0</td>\n",
       "      <td>137</td>\n",
       "      <td>40</td>\n",
       "      <td>35</td>\n",
       "      <td>168</td>\n",
       "      <td>43.1</td>\n",
       "      <td>2.288</td>\n",
       "      <td>33</td>\n",
       "      <td>1</td>\n",
       "    </tr>\n",
       "  </tbody>\n",
       "</table>\n",
       "</div>"
      ],
      "text/plain": [
       "   Pregnancies  Glucose  BloodPressure  SkinThickness  Insulin   BMI  \\\n",
       "0            6      148             72             35        0  33.6   \n",
       "1            1       85             66             29        0  26.6   \n",
       "2            8      183             64              0        0  23.3   \n",
       "3            1       89             66             23       94  28.1   \n",
       "4            0      137             40             35      168  43.1   \n",
       "\n",
       "   DiabetesPedigreeFunction  Age  Outcome  \n",
       "0                     0.627   50        1  \n",
       "1                     0.351   31        0  \n",
       "2                     0.672   32        1  \n",
       "3                     0.167   21        0  \n",
       "4                     2.288   33        1  "
      ]
     },
     "execution_count": 2,
     "metadata": {},
     "output_type": "execute_result"
    }
   ],
   "source": [
    "#Load data from csv and store it in dataframe\n",
    "data = pd.read_csv(\"pima_indian_diabetes.csv\") #We can change this database\n",
    "\n",
    "# We show the first \n",
    "data.head() # Return the first n rows."
   ]
  },
  {
   "cell_type": "code",
   "execution_count": 3,
   "metadata": {},
   "outputs": [],
   "source": [
    "#Define the input and output data\n",
    "#Glucose is the dependent variable in the lab\n",
    "data_input = data.drop(['Glucose','Outcome'], axis=1) \n",
    "data_output = data['Glucose']#CHANGING THE OUTPUT, I AM GOING TO PREDICT. "
   ]
  },
  {
   "cell_type": "code",
   "execution_count": 4,
   "metadata": {},
   "outputs": [
    {
     "data": {
      "text/html": [
       "<div>\n",
       "<style scoped>\n",
       "    .dataframe tbody tr th:only-of-type {\n",
       "        vertical-align: middle;\n",
       "    }\n",
       "\n",
       "    .dataframe tbody tr th {\n",
       "        vertical-align: top;\n",
       "    }\n",
       "\n",
       "    .dataframe thead th {\n",
       "        text-align: right;\n",
       "    }\n",
       "</style>\n",
       "<table border=\"1\" class=\"dataframe\">\n",
       "  <thead>\n",
       "    <tr style=\"text-align: right;\">\n",
       "      <th></th>\n",
       "      <th>Pregnancies</th>\n",
       "      <th>BloodPressure</th>\n",
       "      <th>SkinThickness</th>\n",
       "      <th>Insulin</th>\n",
       "      <th>BMI</th>\n",
       "      <th>DiabetesPedigreeFunction</th>\n",
       "      <th>Age</th>\n",
       "    </tr>\n",
       "  </thead>\n",
       "  <tbody>\n",
       "    <tr>\n",
       "      <th>0</th>\n",
       "      <td>6</td>\n",
       "      <td>72</td>\n",
       "      <td>35</td>\n",
       "      <td>0</td>\n",
       "      <td>33.6</td>\n",
       "      <td>0.627</td>\n",
       "      <td>50</td>\n",
       "    </tr>\n",
       "    <tr>\n",
       "      <th>1</th>\n",
       "      <td>1</td>\n",
       "      <td>66</td>\n",
       "      <td>29</td>\n",
       "      <td>0</td>\n",
       "      <td>26.6</td>\n",
       "      <td>0.351</td>\n",
       "      <td>31</td>\n",
       "    </tr>\n",
       "    <tr>\n",
       "      <th>2</th>\n",
       "      <td>8</td>\n",
       "      <td>64</td>\n",
       "      <td>0</td>\n",
       "      <td>0</td>\n",
       "      <td>23.3</td>\n",
       "      <td>0.672</td>\n",
       "      <td>32</td>\n",
       "    </tr>\n",
       "    <tr>\n",
       "      <th>3</th>\n",
       "      <td>1</td>\n",
       "      <td>66</td>\n",
       "      <td>23</td>\n",
       "      <td>94</td>\n",
       "      <td>28.1</td>\n",
       "      <td>0.167</td>\n",
       "      <td>21</td>\n",
       "    </tr>\n",
       "    <tr>\n",
       "      <th>4</th>\n",
       "      <td>0</td>\n",
       "      <td>40</td>\n",
       "      <td>35</td>\n",
       "      <td>168</td>\n",
       "      <td>43.1</td>\n",
       "      <td>2.288</td>\n",
       "      <td>33</td>\n",
       "    </tr>\n",
       "  </tbody>\n",
       "</table>\n",
       "</div>"
      ],
      "text/plain": [
       "   Pregnancies  BloodPressure  SkinThickness  Insulin   BMI  \\\n",
       "0            6             72             35        0  33.6   \n",
       "1            1             66             29        0  26.6   \n",
       "2            8             64              0        0  23.3   \n",
       "3            1             66             23       94  28.1   \n",
       "4            0             40             35      168  43.1   \n",
       "\n",
       "   DiabetesPedigreeFunction  Age  \n",
       "0                     0.627   50  \n",
       "1                     0.351   31  \n",
       "2                     0.672   32  \n",
       "3                     0.167   21  \n",
       "4                     2.288   33  "
      ]
     },
     "execution_count": 4,
     "metadata": {},
     "output_type": "execute_result"
    }
   ],
   "source": [
    "data_input.head()"
   ]
  },
  {
   "cell_type": "code",
   "execution_count": 5,
   "metadata": {},
   "outputs": [
    {
     "data": {
      "text/plain": [
       "0    148\n",
       "1     85\n",
       "2    183\n",
       "3     89\n",
       "4    137\n",
       "Name: Glucose, dtype: int64"
      ]
     },
     "execution_count": 5,
     "metadata": {},
     "output_type": "execute_result"
    }
   ],
   "source": [
    "data_output.head()"
   ]
  },
  {
   "cell_type": "code",
   "execution_count": 6,
   "metadata": {},
   "outputs": [],
   "source": [
    "#Define the Train (70% of the samples) and Test sets (30% of the samples)\n",
    "# Random state to obtain always the same results\n",
    "# For more details, check: https://numpy.org/doc/1.16/reference/generated/numpy.random.RandomState.html\n",
    "X_train, X_test, Y_train, Y_test = train_test_split(data_input, data_output, test_size=0.3, random_state = 42)\n",
    "#we have to take into account everything must be performed randomly!!"
   ]
  },
  {
   "cell_type": "code",
   "execution_count": 7,
   "metadata": {},
   "outputs": [
    {
     "data": {
      "text/html": [
       "<div>\n",
       "<style scoped>\n",
       "    .dataframe tbody tr th:only-of-type {\n",
       "        vertical-align: middle;\n",
       "    }\n",
       "\n",
       "    .dataframe tbody tr th {\n",
       "        vertical-align: top;\n",
       "    }\n",
       "\n",
       "    .dataframe thead th {\n",
       "        text-align: right;\n",
       "    }\n",
       "</style>\n",
       "<table border=\"1\" class=\"dataframe\">\n",
       "  <thead>\n",
       "    <tr style=\"text-align: right;\">\n",
       "      <th></th>\n",
       "      <th>Pregnancies</th>\n",
       "      <th>BloodPressure</th>\n",
       "      <th>SkinThickness</th>\n",
       "      <th>Insulin</th>\n",
       "      <th>BMI</th>\n",
       "      <th>DiabetesPedigreeFunction</th>\n",
       "      <th>Age</th>\n",
       "    </tr>\n",
       "  </thead>\n",
       "  <tbody>\n",
       "    <tr>\n",
       "      <th>334</th>\n",
       "      <td>1</td>\n",
       "      <td>60</td>\n",
       "      <td>18</td>\n",
       "      <td>58</td>\n",
       "      <td>23.9</td>\n",
       "      <td>0.260</td>\n",
       "      <td>22</td>\n",
       "    </tr>\n",
       "    <tr>\n",
       "      <th>139</th>\n",
       "      <td>5</td>\n",
       "      <td>72</td>\n",
       "      <td>29</td>\n",
       "      <td>325</td>\n",
       "      <td>36.9</td>\n",
       "      <td>0.159</td>\n",
       "      <td>28</td>\n",
       "    </tr>\n",
       "    <tr>\n",
       "      <th>485</th>\n",
       "      <td>0</td>\n",
       "      <td>68</td>\n",
       "      <td>42</td>\n",
       "      <td>250</td>\n",
       "      <td>42.3</td>\n",
       "      <td>0.365</td>\n",
       "      <td>24</td>\n",
       "    </tr>\n",
       "    <tr>\n",
       "      <th>547</th>\n",
       "      <td>4</td>\n",
       "      <td>68</td>\n",
       "      <td>21</td>\n",
       "      <td>166</td>\n",
       "      <td>33.1</td>\n",
       "      <td>0.160</td>\n",
       "      <td>28</td>\n",
       "    </tr>\n",
       "    <tr>\n",
       "      <th>18</th>\n",
       "      <td>1</td>\n",
       "      <td>30</td>\n",
       "      <td>38</td>\n",
       "      <td>83</td>\n",
       "      <td>43.3</td>\n",
       "      <td>0.183</td>\n",
       "      <td>33</td>\n",
       "    </tr>\n",
       "    <tr>\n",
       "      <th>...</th>\n",
       "      <td>...</td>\n",
       "      <td>...</td>\n",
       "      <td>...</td>\n",
       "      <td>...</td>\n",
       "      <td>...</td>\n",
       "      <td>...</td>\n",
       "      <td>...</td>\n",
       "    </tr>\n",
       "    <tr>\n",
       "      <th>71</th>\n",
       "      <td>5</td>\n",
       "      <td>64</td>\n",
       "      <td>35</td>\n",
       "      <td>140</td>\n",
       "      <td>28.6</td>\n",
       "      <td>0.411</td>\n",
       "      <td>26</td>\n",
       "    </tr>\n",
       "    <tr>\n",
       "      <th>106</th>\n",
       "      <td>1</td>\n",
       "      <td>122</td>\n",
       "      <td>0</td>\n",
       "      <td>0</td>\n",
       "      <td>22.4</td>\n",
       "      <td>0.207</td>\n",
       "      <td>27</td>\n",
       "    </tr>\n",
       "    <tr>\n",
       "      <th>270</th>\n",
       "      <td>10</td>\n",
       "      <td>86</td>\n",
       "      <td>37</td>\n",
       "      <td>0</td>\n",
       "      <td>45.6</td>\n",
       "      <td>1.136</td>\n",
       "      <td>38</td>\n",
       "    </tr>\n",
       "    <tr>\n",
       "      <th>435</th>\n",
       "      <td>0</td>\n",
       "      <td>0</td>\n",
       "      <td>0</td>\n",
       "      <td>0</td>\n",
       "      <td>42.4</td>\n",
       "      <td>0.205</td>\n",
       "      <td>29</td>\n",
       "    </tr>\n",
       "    <tr>\n",
       "      <th>102</th>\n",
       "      <td>0</td>\n",
       "      <td>96</td>\n",
       "      <td>0</td>\n",
       "      <td>0</td>\n",
       "      <td>22.5</td>\n",
       "      <td>0.262</td>\n",
       "      <td>21</td>\n",
       "    </tr>\n",
       "  </tbody>\n",
       "</table>\n",
       "<p>537 rows × 7 columns</p>\n",
       "</div>"
      ],
      "text/plain": [
       "     Pregnancies  BloodPressure  SkinThickness  Insulin   BMI  \\\n",
       "334            1             60             18       58  23.9   \n",
       "139            5             72             29      325  36.9   \n",
       "485            0             68             42      250  42.3   \n",
       "547            4             68             21      166  33.1   \n",
       "18             1             30             38       83  43.3   \n",
       "..           ...            ...            ...      ...   ...   \n",
       "71             5             64             35      140  28.6   \n",
       "106            1            122              0        0  22.4   \n",
       "270           10             86             37        0  45.6   \n",
       "435            0              0              0        0  42.4   \n",
       "102            0             96              0        0  22.5   \n",
       "\n",
       "     DiabetesPedigreeFunction  Age  \n",
       "334                     0.260   22  \n",
       "139                     0.159   28  \n",
       "485                     0.365   24  \n",
       "547                     0.160   28  \n",
       "18                      0.183   33  \n",
       "..                        ...  ...  \n",
       "71                      0.411   26  \n",
       "106                     0.207   27  \n",
       "270                     1.136   38  \n",
       "435                     0.205   29  \n",
       "102                     0.262   21  \n",
       "\n",
       "[537 rows x 7 columns]"
      ]
     },
     "execution_count": 7,
     "metadata": {},
     "output_type": "execute_result"
    }
   ],
   "source": [
    "X_train"
   ]
  },
  {
   "cell_type": "code",
   "execution_count": 8,
   "metadata": {},
   "outputs": [
    {
     "data": {
      "text/html": [
       "<div>\n",
       "<style scoped>\n",
       "    .dataframe tbody tr th:only-of-type {\n",
       "        vertical-align: middle;\n",
       "    }\n",
       "\n",
       "    .dataframe tbody tr th {\n",
       "        vertical-align: top;\n",
       "    }\n",
       "\n",
       "    .dataframe thead th {\n",
       "        text-align: right;\n",
       "    }\n",
       "</style>\n",
       "<table border=\"1\" class=\"dataframe\">\n",
       "  <thead>\n",
       "    <tr style=\"text-align: right;\">\n",
       "      <th></th>\n",
       "      <th>Pregnancies</th>\n",
       "      <th>BloodPressure</th>\n",
       "      <th>SkinThickness</th>\n",
       "      <th>Insulin</th>\n",
       "      <th>BMI</th>\n",
       "      <th>DiabetesPedigreeFunction</th>\n",
       "      <th>Age</th>\n",
       "    </tr>\n",
       "  </thead>\n",
       "  <tbody>\n",
       "    <tr>\n",
       "      <th>668</th>\n",
       "      <td>6</td>\n",
       "      <td>58</td>\n",
       "      <td>33</td>\n",
       "      <td>190</td>\n",
       "      <td>34.0</td>\n",
       "      <td>0.430</td>\n",
       "      <td>43</td>\n",
       "    </tr>\n",
       "    <tr>\n",
       "      <th>324</th>\n",
       "      <td>2</td>\n",
       "      <td>75</td>\n",
       "      <td>32</td>\n",
       "      <td>0</td>\n",
       "      <td>35.7</td>\n",
       "      <td>0.148</td>\n",
       "      <td>21</td>\n",
       "    </tr>\n",
       "    <tr>\n",
       "      <th>624</th>\n",
       "      <td>2</td>\n",
       "      <td>64</td>\n",
       "      <td>0</td>\n",
       "      <td>0</td>\n",
       "      <td>30.8</td>\n",
       "      <td>0.158</td>\n",
       "      <td>21</td>\n",
       "    </tr>\n",
       "    <tr>\n",
       "      <th>690</th>\n",
       "      <td>8</td>\n",
       "      <td>80</td>\n",
       "      <td>0</td>\n",
       "      <td>0</td>\n",
       "      <td>24.6</td>\n",
       "      <td>0.856</td>\n",
       "      <td>34</td>\n",
       "    </tr>\n",
       "    <tr>\n",
       "      <th>473</th>\n",
       "      <td>7</td>\n",
       "      <td>90</td>\n",
       "      <td>0</td>\n",
       "      <td>0</td>\n",
       "      <td>29.9</td>\n",
       "      <td>0.210</td>\n",
       "      <td>50</td>\n",
       "    </tr>\n",
       "    <tr>\n",
       "      <th>...</th>\n",
       "      <td>...</td>\n",
       "      <td>...</td>\n",
       "      <td>...</td>\n",
       "      <td>...</td>\n",
       "      <td>...</td>\n",
       "      <td>...</td>\n",
       "      <td>...</td>\n",
       "    </tr>\n",
       "    <tr>\n",
       "      <th>619</th>\n",
       "      <td>0</td>\n",
       "      <td>0</td>\n",
       "      <td>0</td>\n",
       "      <td>0</td>\n",
       "      <td>32.4</td>\n",
       "      <td>0.141</td>\n",
       "      <td>24</td>\n",
       "    </tr>\n",
       "    <tr>\n",
       "      <th>198</th>\n",
       "      <td>4</td>\n",
       "      <td>64</td>\n",
       "      <td>44</td>\n",
       "      <td>99</td>\n",
       "      <td>34.8</td>\n",
       "      <td>0.905</td>\n",
       "      <td>26</td>\n",
       "    </tr>\n",
       "    <tr>\n",
       "      <th>538</th>\n",
       "      <td>0</td>\n",
       "      <td>80</td>\n",
       "      <td>37</td>\n",
       "      <td>210</td>\n",
       "      <td>36.3</td>\n",
       "      <td>0.804</td>\n",
       "      <td>23</td>\n",
       "    </tr>\n",
       "    <tr>\n",
       "      <th>329</th>\n",
       "      <td>6</td>\n",
       "      <td>70</td>\n",
       "      <td>32</td>\n",
       "      <td>68</td>\n",
       "      <td>30.8</td>\n",
       "      <td>0.122</td>\n",
       "      <td>37</td>\n",
       "    </tr>\n",
       "    <tr>\n",
       "      <th>302</th>\n",
       "      <td>5</td>\n",
       "      <td>82</td>\n",
       "      <td>41</td>\n",
       "      <td>42</td>\n",
       "      <td>35.8</td>\n",
       "      <td>0.156</td>\n",
       "      <td>35</td>\n",
       "    </tr>\n",
       "  </tbody>\n",
       "</table>\n",
       "<p>231 rows × 7 columns</p>\n",
       "</div>"
      ],
      "text/plain": [
       "     Pregnancies  BloodPressure  SkinThickness  Insulin   BMI  \\\n",
       "668            6             58             33      190  34.0   \n",
       "324            2             75             32        0  35.7   \n",
       "624            2             64              0        0  30.8   \n",
       "690            8             80              0        0  24.6   \n",
       "473            7             90              0        0  29.9   \n",
       "..           ...            ...            ...      ...   ...   \n",
       "619            0              0              0        0  32.4   \n",
       "198            4             64             44       99  34.8   \n",
       "538            0             80             37      210  36.3   \n",
       "329            6             70             32       68  30.8   \n",
       "302            5             82             41       42  35.8   \n",
       "\n",
       "     DiabetesPedigreeFunction  Age  \n",
       "668                     0.430   43  \n",
       "324                     0.148   21  \n",
       "624                     0.158   21  \n",
       "690                     0.856   34  \n",
       "473                     0.210   50  \n",
       "..                        ...  ...  \n",
       "619                     0.141   24  \n",
       "198                     0.905   26  \n",
       "538                     0.804   23  \n",
       "329                     0.122   37  \n",
       "302                     0.156   35  \n",
       "\n",
       "[231 rows x 7 columns]"
      ]
     },
     "execution_count": 8,
     "metadata": {},
     "output_type": "execute_result"
    }
   ],
   "source": [
    "X_test"
   ]
  },
  {
   "cell_type": "markdown",
   "metadata": {},
   "source": [
    "#### Define variables for R^2 and MSE"
   ]
  },
  {
   "cell_type": "code",
   "execution_count": 9,
   "metadata": {},
   "outputs": [],
   "source": [
    "r2_results=[]\n",
    "mse_results=[]\n"
   ]
  },
  {
   "cell_type": "markdown",
   "metadata": {},
   "source": [
    "## 3. Simple Linear Regression\n",
    "\n",
    "Linear regression allows us to establish the relationship between a dependent variable and one or more explanatory variables. This technique is used when the relationship between the variables is linear. \n",
    "\n",
    "Indicate:\n",
    "\n",
    "a) What is the dependent variable that you could consider to address a linear regression problem?\n",
    "\n",
    "b) Which variable is the one that allows better estimation of the dependent variable? You can be helped by the value of the correlation coefficient, as well as by some performance measures that you consider appropriate to evaluate the performance of the regressor.\n",
    "\n",
    "c) Indicate whether the performance obtained in the test set change after normalizing the variables.\n",
    "\n"
   ]
  },
  {
   "cell_type": "code",
   "execution_count": 10,
   "metadata": {},
   "outputs": [
    {
     "name": "stdout",
     "output_type": "stream",
     "text": [
      "96.3183850830471\n",
      "[0.74168274]\n",
      "R Squared: 0.06312833080687752 \n",
      " Mean Squared Error:906.4050891975435\n"
     ]
    }
   ],
   "source": [
    "from sklearn import model_selection   \n",
    "from sklearn import metrics\n",
    "from sklearn.linear_model import LinearRegression\n",
    "\n",
    "# Simple linear regression\n",
    "regressor = LinearRegression()\n",
    "\n",
    "#Train the model using the training set\n",
    "regressor = regressor.fit(np.array(X_train['Age']).reshape(-1, 1), Y_train)\n",
    "#both x train and y train to fit the model. \n",
    "\n",
    "# Show the intercept\n",
    "print(regressor.intercept_)\n",
    "\n",
    "# Show the coeffients\n",
    "print(regressor.coef_)\n",
    "\n",
    "#Predict using the test set\n",
    "y_pred = regressor.predict(np.array(X_test['Age']).reshape(-1,1))\n",
    "\n",
    "# Compute the MSE\n",
    "mse=metrics.mean_squared_error(Y_test, y_pred)\n",
    "mse_results.append(mse)\n",
    "\n",
    "# Compute the R2\n",
    "r_squared=metrics.r2_score(Y_test, y_pred)\n",
    "r2_results.append(r_squared)\n",
    "\n",
    "\n",
    "print(f'R Squared: {r_squared} \\n Mean Squared Error:{mse}')\n",
    "\n",
    "\n"
   ]
  },
  {
   "cell_type": "code",
   "execution_count": 11,
   "metadata": {},
   "outputs": [
    {
     "data": {
      "image/png": "[encoded data removed]",
      "text/plain": [
       "<Figure size 432x288 with 1 Axes>"
      ]
     },
     "metadata": {
      "needs_background": "light"
     },
     "output_type": "display_data"
    }
   ],
   "source": [
    "# Plot the samples and the predict\n",
    "plt.scatter(X_test['Age'],Y_test,color='g')\n",
    "plt.plot(X_test['Age'], y_pred,color='r')\n",
    "plt.xlabel('Age')\n",
    "plt.ylabel(\"Glucose\")\n",
    "plt.show()"
   ]
  },
  {
   "cell_type": "code",
   "execution_count": 12,
   "metadata": {},
   "outputs": [
    {
     "name": "stdout",
     "output_type": "stream",
     "text": [
      "120.84916201117318\n",
      "[8.65872605]\n",
      "R Squared: 0.06312833080687752 \n",
      " Mean Squared Error:906.4050891975435\n"
     ]
    }
   ],
   "source": [
    "# Normalize\n",
    "from sklearn.preprocessing import StandardScaler\n",
    "scaler = StandardScaler()#I HAVE TO USE THIS IF I WANT TO NORMALIZE\n",
    "scalerfit =  scaler.fit(X_train)\n",
    "X_train_norm=scaler.transform(X_train)\n",
    "X_test_norm=scaler.transform(X_test)\n",
    "#THE TRAIN DATA NORMALIZES THE TEST DATA. \n",
    "\n",
    "# Simple linear regression\n",
    "regressor = LinearRegression()\n",
    "\n",
    "#Train the model using the training set\n",
    "regressor = regressor.fit(X_train_norm[:,6].reshape(-1, 1), Y_train)\n",
    "\n",
    "# Show the intercept\n",
    "print(regressor.intercept_)\n",
    "\n",
    "# Show the coeffients\n",
    "print(regressor.coef_)\n",
    "\n",
    "#Predict using the test set\n",
    "y_pred_lsr = regressor.predict(X_test_norm[:,6].reshape(-1,1))\n",
    "\n",
    "# Compute the MSE\n",
    "mse_lsr=metrics.mean_squared_error(Y_test, y_pred_lsr)\n",
    "mse_results.append(mse_lsr)\n",
    "\n",
    "\n",
    "# Compute the R2\n",
    "r_squared_lsr=metrics.r2_score(Y_test, y_pred_lsr)\n",
    "r2_results.append(r_squared_lsr)\n",
    "\n",
    "print(f'R Squared: {r_squared_lsr} \\n Mean Squared Error:{mse_lsr}')\n"
   ]
  },
  {
   "cell_type": "code",
   "execution_count": 13,
   "metadata": {},
   "outputs": [
    {
     "data": {
      "image/png": "[encoded data removed]",
      "text/plain": [
       "<Figure size 432x288 with 1 Axes>"
      ]
     },
     "metadata": {
      "needs_background": "light"
     },
     "output_type": "display_data"
    }
   ],
   "source": [
    "# Plot the samples and the predict\n",
    "plt.scatter(X_test_norm[:,6],Y_test,color='g')\n",
    "plt.plot(X_test_norm[:,6], y_pred,color='r')\n",
    "plt.xlabel('Age')\n",
    "plt.ylabel(\"Glucose\")\n",
    "plt.show()"
   ]
  },
  {
   "cell_type": "markdown",
   "metadata": {},
   "source": [
    "## 4. Multiple Linear Regresion\n",
    "\n",
    "In this section we will analyze:\n",
    "\n",
    "a) How the value of the estimators, the correlation coefficient and the performance measures change when we change the number of explanatory variables.\n",
    "\n",
    "b) The most relevant feautures. Explain in detail the process you have followed and justify which characteristics are most relevant to you in this database.\n",
    "\n",
    "Note: you may have to repeat this section with a different number of variables in order to draw valid conclusions."
   ]
  },
  {
   "cell_type": "code",
   "execution_count": 14,
   "metadata": {},
   "outputs": [
    {
     "name": "stdout",
     "output_type": "stream",
     "text": [
      "120.84916201117318\n",
      "[ 0.37964402  2.32016285 -6.87037348 12.46775196  6.16769688  3.47336043\n",
      "  7.03612178]\n",
      "R Squared: 0.14997091162736031 \n",
      " Mean Squared Error:822.3865839923138\n"
     ]
    }
   ],
   "source": [
    "# Simple linear regression\n",
    "regressor = LinearRegression()\n",
    "\n",
    "#Train the model using the training set\n",
    "regressor = regressor.fit(X_train_norm, Y_train)\n",
    "\n",
    "# Show the intercept\n",
    "print(regressor.intercept_)\n",
    "\n",
    "# Show the coeffients\n",
    "print(regressor.coef_)\n",
    "\n",
    "#Predict using the test set\n",
    "y_pred_mlr = regressor.predict(X_test_norm)\n",
    "\n",
    "# Compute the MSE\n",
    "mse_mlr=metrics.mean_squared_error(Y_test, y_pred_mlr)\n",
    "mse_results.append(mse_mlr)\n",
    "\n",
    "# Compute the R2\n",
    "r_squared_mlr=metrics.r2_score(Y_test, y_pred_mlr)\n",
    "r2_results.append(r_squared_mlr)\n",
    "\n",
    "print(f'R Squared: {r_squared_mlr} \\n Mean Squared Error:{mse_mlr}')\n"
   ]
  },
  {
   "cell_type": "code",
   "execution_count": 15,
   "metadata": {},
   "outputs": [
    {
     "name": "stdout",
     "output_type": "stream",
     "text": [
      "[0 1 2 3 4 5 6]\n"
     ]
    }
   ],
   "source": [
    "x_coef=np.arange(regressor.coef_.shape[0])\n",
    "print(x_coef)"
   ]
  },
  {
   "cell_type": "code",
   "execution_count": 16,
   "metadata": {},
   "outputs": [
    {
     "data": {
      "image/png": "[encoded data removed]",
      "text/plain": [
       "<Figure size 432x288 with 1 Axes>"
      ]
     },
     "metadata": {
      "needs_background": "light"
     },
     "output_type": "display_data"
    }
   ],
   "source": [
    "import matplotlib.pyplot as plt  \n",
    "plt.plot( x_coef, abs(regressor.coef_) ,color='r', marker=\"o\")\n",
    "plt.xticks(np.arange(regressor.coef_.shape[0]), data_input.columns, rotation=90,  fontsize=12)  # Set text labels and properties.\n",
    "plt.grid()"
   ]
  },
  {
   "cell_type": "markdown",
   "metadata": {},
   "source": [
    "You can explore results when: (1) normalizing data; (2) discarding some features based on their coefficients; (3) using other approaches such stats"
   ]
  },
  {
   "cell_type": "code",
   "execution_count": 17,
   "metadata": {},
   "outputs": [
    {
     "name": "stdout",
     "output_type": "stream",
     "text": [
      "                                 OLS Regression Results                                \n",
      "=======================================================================================\n",
      "Dep. Variable:                Glucose   R-squared (uncentered):                   0.017\n",
      "Model:                            OLS   Adj. R-squared (uncentered):              0.004\n",
      "Method:                 Least Squares   F-statistic:                              1.316\n",
      "Date:                Sat, 13 Nov 2021   Prob (F-statistic):                       0.240\n",
      "Time:                        11:03:03   Log-Likelihood:                         -3350.6\n",
      "No. Observations:                 537   AIC:                                      6715.\n",
      "Df Residuals:                     530   BIC:                                      6745.\n",
      "Df Model:                           7                                                  \n",
      "Covariance Type:            nonrobust                                                  \n",
      "==============================================================================\n",
      "                 coef    std err          t      P>|t|      [0.025      0.975]\n",
      "------------------------------------------------------------------------------\n",
      "x1             0.3796      6.452      0.059      0.953     -12.295      13.054\n",
      "x2             2.3202      5.806      0.400      0.690      -9.085      13.725\n",
      "x3            -6.8704      6.547     -1.049      0.295     -19.732       5.992\n",
      "x4            12.4678      5.987      2.082      0.038       0.707      24.229\n",
      "x5             6.1677      5.991      1.030      0.304      -5.601      17.936\n",
      "x6             3.4734      5.535      0.628      0.531      -7.399      14.346\n",
      "x7             7.0361      6.700      1.050      0.294      -6.125      20.197\n",
      "==============================================================================\n",
      "Omnibus:                       23.998   Durbin-Watson:                   0.096\n",
      "Prob(Omnibus):                  0.000   Jarque-Bera (JB):               64.294\n",
      "Skew:                          -0.085   Prob(JB):                     1.09e-14\n",
      "Kurtosis:                       4.687   Cond. No.                         2.13\n",
      "==============================================================================\n",
      "\n",
      "Warnings:\n",
      "[1] Standard Errors assume that the covariance matrix of the errors is correctly specified.\n"
     ]
    }
   ],
   "source": [
    "import statsmodels.api as sm\n",
    "mod = sm.OLS(Y_train, X_train_norm)\n",
    "res = mod.fit()\n",
    "print(res.summary())"
   ]
  },
  {
   "cell_type": "markdown",
   "metadata": {},
   "source": [
    "## 5. Non-linear regression\n",
    "\n",
    "\n",
    "Many of the relationships between variables we study are non-linear. As we have seen in theory, we can highlight the functions logarithmic, inverse, quadratic, cubic, power, exponential, etc.\n",
    "\n",
    "a) Include which non-linear functions best fit the available data.\n",
    "\n",
    "b) Indicate whether the performance obtained in the test set changes after normalizing the variables.\n"
   ]
  },
  {
   "cell_type": "code",
   "execution_count": 18,
   "metadata": {},
   "outputs": [
    {
     "name": "stdout",
     "output_type": "stream",
     "text": [
      "(537, 7)\n",
      "(537, 330)\n",
      "(537,)\n",
      "(231, 330)\n"
     ]
    }
   ],
   "source": [
    "# Non-linear regression with a defined degree\n",
    "from sklearn.preprocessing import PolynomialFeatures\n",
    "poly_reg = PolynomialFeatures(degree=4) # We can change the degree\n",
    "X_train_poly = poly_reg.fit_transform(X_train)\n",
    "X_test_poly = poly_reg.transform(X_test)\n",
    "pol_reg = LinearRegression()\n",
    "pol_reg.fit(X_train_poly, Y_train)\n",
    "print(X_train.shape)\n",
    "print(X_train_poly.shape)\n",
    "print(Y_train.shape)\n",
    "print(X_test_poly.shape)\n"
   ]
  },
  {
   "cell_type": "code",
   "execution_count": 19,
   "metadata": {},
   "outputs": [
    {
     "data": {
      "image/png": "[encoded data removed]",
      "text/plain": [
       "<Figure size 432x288 with 1 Axes>"
      ]
     },
     "metadata": {
      "needs_background": "light"
     },
     "output_type": "display_data"
    },
    {
     "name": "stdout",
     "output_type": "stream",
     "text": [
      "2\n"
     ]
    }
   ],
   "source": [
    "# Use cross validation for finding the degree\n",
    "cv_degree_scores=[]\n",
    "d_values = range(2,7,1)\n",
    "for d in d_values:\n",
    "    poly_reg = PolynomialFeatures(degree=d)\n",
    "    X_train_poly = poly_reg.fit_transform(X_train)\n",
    "    X_test_poly = poly_reg.transform(X_test)\n",
    "    pol_reg = LinearRegression()\n",
    "    scores= cross_val_score(pol_reg, X_train_poly, Y_train, cv=3, scoring='neg_mean_squared_error')\n",
    "    cv_degree_scores.append(scores.mean())\n",
    "    \n",
    "plt.plot(d_values, cv_degree_scores)\n",
    "plt.xlabel('degree')\n",
    "plt.ylabel('CV mse')\n",
    "plt.show()\n",
    "\n",
    "# Select the maximum because we are considering accuracuy\n",
    "print(np.array(d_values)[cv_degree_scores.index(np.array(cv_degree_scores).max())])"
   ]
  },
  {
   "cell_type": "code",
   "execution_count": 20,
   "metadata": {},
   "outputs": [
    {
     "name": "stdout",
     "output_type": "stream",
     "text": [
      "R Squared: 0.11542532325012456 \n",
      " Mean Squared Error:855.8087677812821\n"
     ]
    }
   ],
   "source": [
    "# Train and predict with the best degree\n",
    "poly_reg = PolynomialFeatures(degree=np.array(d_values)[cv_degree_scores.index(np.array(cv_degree_scores).max())])\n",
    "X_train_poly = poly_reg.fit_transform(X_train_norm)\n",
    "X_test_poly = poly_reg.transform(X_test_norm)\n",
    "\n",
    "# Train\n",
    "pol_reg = LinearRegression()\n",
    "pol_reg.fit(X_train_poly, Y_train)\n",
    "y_pred_pol=pol_reg.predict(X_test_poly)\n",
    "\n",
    "# Compute the MSE\n",
    "mse_pol=metrics.mean_squared_error(Y_test, y_pred_pol)\n",
    "mse_results.append(mse_pol)\n",
    "\n",
    "# Compute the R2\n",
    "r_squared_pol=metrics.r2_score(Y_test, y_pred_pol)\n",
    "r2_results.append(r_squared_pol)\n",
    "\n",
    "# Print results\n",
    "print(f'R Squared: {r_squared_pol} \\n Mean Squared Error:{mse_pol}')"
   ]
  },
  {
   "cell_type": "code",
   "execution_count": 21,
   "metadata": {},
   "outputs": [
    {
     "data": {
      "image/png": "[encoded data removed]",
      "text/plain": [
       "<Figure size 432x288 with 1 Axes>"
      ]
     },
     "metadata": {
      "needs_background": "light"
     },
     "output_type": "display_data"
    }
   ],
   "source": [
    "from sklearn.model_selection import validation_curve\n",
    "from sklearn.pipeline import make_pipeline\n",
    "\n",
    "degrees = np.arange(2, 5)\n",
    "\n",
    "model = make_pipeline(PolynomialFeatures(), LinearRegression())\n",
    "\n",
    "# The parameter to vary is the \"degrees\" on the pipeline step\n",
    "# \"polynomialfeatures\"\n",
    "train_scores, validation_scores = validation_curve(\n",
    "                 model, X_train, Y_train,\n",
    "                 param_name='polynomialfeatures__degree',\n",
    "                 param_range=degrees)\n",
    "\n",
    "# Plot the mean train error and validation error across folds\n",
    "plt.figure(figsize=(6, 4))\n",
    "plt.plot(degrees, validation_scores.mean(axis=1), lw=2,\n",
    "         label='Validation', marker='o')\n",
    "plt.plot(degrees, train_scores.mean(axis=1), lw=2, label='Train',marker='*')\n",
    "\n",
    "plt.legend(loc='best')\n",
    "plt.xlabel('Degree')\n",
    "plt.ylabel('Score')\n",
    "plt.title('Validation curve')\n",
    "plt.tight_layout()"
   ]
  },
  {
   "cell_type": "markdown",
   "metadata": {},
   "source": [
    "## 6. Linear regression with regularization"
   ]
  },
  {
   "cell_type": "markdown",
   "metadata": {},
   "source": [
    "a) Indicate whether the performance obtained in the test set changes when changing the regularization considered.\n",
    "\n",
    "b) Justify which characteristics are more relevant for these models"
   ]
  },
  {
   "cell_type": "code",
   "execution_count": 22,
   "metadata": {},
   "outputs": [
    {
     "name": "stdout",
     "output_type": "stream",
     "text": [
      "{'alpha': 10}\n",
      "-798.3180502127368\n",
      "R Squared: 0.15358461312644323 \n",
      " Mean Squared Error:818.8903981887336\n"
     ]
    }
   ],
   "source": [
    "# Ridge Regression\n",
    "from sklearn.model_selection import GridSearchCV\n",
    "from sklearn.linear_model import Ridge\n",
    "ridge = Ridge()\n",
    "\n",
    "# Values for alpha\n",
    "parameters = {\"alpha\":[1e-15, 1e-10, 1e-8, 1e-4, 1e-3, 1e-2, 1, 5, 10, 20,30]}\n",
    "\n",
    "# Grid search for ridge regression\n",
    "ridge_regression = GridSearchCV(ridge, parameters, scoring='neg_mean_squared_error', cv=5)\n",
    "\n",
    "# Train \n",
    "ridge_regression.fit(X_train_norm, Y_train)\n",
    "\n",
    "# Best parameters and best score\n",
    "print(ridge_regression.best_params_)\n",
    "print(ridge_regression.best_score_)\n",
    "\n",
    "\n",
    "# Predict\n",
    "y_pred_ridge = ridge_regression.predict(X_test_norm)\n",
    "\n",
    "# Compute the MSE\n",
    "mse_ridge=metrics.mean_squared_error(Y_test, y_pred_ridge)\n",
    "mse_results.append(mse_ridge)\n",
    "\n",
    "\n",
    "# Compute the R2\n",
    "r_squared_ridge=metrics.r2_score(Y_test, y_pred_ridge)\n",
    "r2_results.append(r_squared_ridge)\n",
    "\n",
    "print(f'R Squared: {r_squared_ridge} \\n Mean Squared Error:{mse_ridge}')\n"
   ]
  },
  {
   "cell_type": "code",
   "execution_count": 23,
   "metadata": {},
   "outputs": [
    {
     "name": "stdout",
     "output_type": "stream",
     "text": [
      "{'alpha': 0.0001}\n",
      "-798.7150454916369\n",
      "R Squared: 0.1499744578356884 \n",
      " Mean Squared Error:822.3831531048384\n",
      "Mean squared error on test set 822.3831531048388\n"
     ]
    }
   ],
   "source": [
    "from sklearn.linear_model import Lasso\n",
    "\n",
    "lasso = Lasso()\n",
    "\n",
    "# Values for alpha\n",
    "parameters = {\"alpha\":[1e-4, 1e-2, 1, 5, 10, 20]}\n",
    "\n",
    "# Grid search for lasso regression\n",
    "lasso_regression = GridSearchCV(lasso, parameters, scoring='neg_mean_squared_error', cv=5)\n",
    "\n",
    "# Train \n",
    "lasso_train=lasso_regression.fit(X_train_norm, Y_train)\n",
    "\n",
    "print(lasso_regression.best_params_)\n",
    "print(lasso_regression.best_score_)\n",
    "\n",
    "# Predict\n",
    "y_pred_lasso = lasso_regression.predict(X_test_norm)\n",
    "\n",
    "# Compute the MSE\n",
    "mse_lasso=metrics.mean_squared_error(Y_test, y_pred_lasso)\n",
    "mse_results.append(mse_lasso)\n",
    "\n",
    "\n",
    "# Compute the R2\n",
    "r_squared_lasso=metrics.r2_score(Y_test, y_pred_lasso)\n",
    "r2_results.append(r_squared_lasso)\n",
    "\n",
    "#Print results\n",
    "print(f'R Squared: {r_squared_lasso} \\n Mean Squared Error:{mse_lasso}')\n",
    " \n",
    "# Calculate Mean Squared Error\n",
    "mean_squared_error = np.mean((y_pred_lasso - Y_test)**2)\n",
    "print(\"Mean squared error on test set\", mean_squared_error)\n",
    "\n",
    " "
   ]
  },
  {
   "cell_type": "markdown",
   "metadata": {},
   "source": [
    "## 7. Comparison of the results obtained with the different models\n"
   ]
  },
  {
   "cell_type": "markdown",
   "metadata": {},
   "source": [
    "Provide in a table the performance measures  obtained both in the validation and test set  by the different models designed.\n",
    "\n",
    "In view of the results obtained, please answer, if possible, the following questions:\n",
    "\n",
    "a) Justify whether the fact of normalizing the feature's values influence the results obtained.\n",
    "\n",
    "b) Reasonably justify whether you would use a linear or non-linear parametric scheme. Indicate and justify the scheme that provides the best performance in the set of tests.\n",
    "\n",
    "c) Indicate and justifiy which are the most relevant feautures as well as the procedure to identify them.\n",
    "\n",
    "d) Indicate and justify  whether the fact of making a single partition of the cases in the training and test sets can influence the results obtained. Starting from the original data, make a new partition of the cases in the training and test sets. Select one of the analyzed models (indicate the chosen models) and obtain again the figures of merti. Comment the obtained results. "
   ]
  },
  {
   "cell_type": "code",
   "execution_count": 24,
   "metadata": {},
   "outputs": [],
   "source": [
    "results = pd.DataFrame()\n",
    "\n",
    "results[\"R2 in the test set\"] = r2_results\n",
    "results[\"MSE in the test set\"] = mse_results\n",
    "\n",
    "#results\n",
    "results[\"Models\"] = [\"Linear Regression (LR) \", \"LR Normalized\", \"Multiple LR Normalized\", \"Non-LR Normalized\", \"Rigde\", \"Lasso\"]\n",
    "results.set_index(\"Models\", inplace = True)\n"
   ]
  },
  {
   "cell_type": "code",
   "execution_count": 25,
   "metadata": {},
   "outputs": [
    {
     "data": {
      "text/html": [
       "<div>\n",
       "<style scoped>\n",
       "    .dataframe tbody tr th:only-of-type {\n",
       "        vertical-align: middle;\n",
       "    }\n",
       "\n",
       "    .dataframe tbody tr th {\n",
       "        vertical-align: top;\n",
       "    }\n",
       "\n",
       "    .dataframe thead th {\n",
       "        text-align: right;\n",
       "    }\n",
       "</style>\n",
       "<table border=\"1\" class=\"dataframe\">\n",
       "  <thead>\n",
       "    <tr style=\"text-align: right;\">\n",
       "      <th></th>\n",
       "      <th>R2 in the test set</th>\n",
       "      <th>MSE in the test set</th>\n",
       "    </tr>\n",
       "    <tr>\n",
       "      <th>Models</th>\n",
       "      <th></th>\n",
       "      <th></th>\n",
       "    </tr>\n",
       "  </thead>\n",
       "  <tbody>\n",
       "    <tr>\n",
       "      <th>Linear Regression (LR)</th>\n",
       "      <td>0.063128</td>\n",
       "      <td>906.405089</td>\n",
       "    </tr>\n",
       "    <tr>\n",
       "      <th>LR Normalized</th>\n",
       "      <td>0.063128</td>\n",
       "      <td>906.405089</td>\n",
       "    </tr>\n",
       "    <tr>\n",
       "      <th>Multiple LR Normalized</th>\n",
       "      <td>0.149971</td>\n",
       "      <td>822.386584</td>\n",
       "    </tr>\n",
       "    <tr>\n",
       "      <th>Non-LR Normalized</th>\n",
       "      <td>0.115425</td>\n",
       "      <td>855.808768</td>\n",
       "    </tr>\n",
       "    <tr>\n",
       "      <th>Rigde</th>\n",
       "      <td>0.153585</td>\n",
       "      <td>818.890398</td>\n",
       "    </tr>\n",
       "    <tr>\n",
       "      <th>Lasso</th>\n",
       "      <td>0.149974</td>\n",
       "      <td>822.383153</td>\n",
       "    </tr>\n",
       "  </tbody>\n",
       "</table>\n",
       "</div>"
      ],
      "text/plain": [
       "                         R2 in the test set  MSE in the test set\n",
       "Models                                                          \n",
       "Linear Regression (LR)             0.063128           906.405089\n",
       "LR Normalized                      0.063128           906.405089\n",
       "Multiple LR Normalized             0.149971           822.386584\n",
       "Non-LR Normalized                  0.115425           855.808768\n",
       "Rigde                              0.153585           818.890398\n",
       "Lasso                              0.149974           822.383153"
      ]
     },
     "execution_count": 25,
     "metadata": {},
     "output_type": "execute_result"
    }
   ],
   "source": [
    "results"
   ]
  },
  {
   "cell_type": "code",
   "execution_count": null,
   "metadata": {},
   "outputs": [],
   "source": []
  }
 ],
 "metadata": {
  "kernelspec": {
   "display_name": "Python 3",
   "language": "python",
   "name": "python3"
  },
  "language_info": {
   "codemirror_mode": {
    "name": "ipython",
    "version": 3
   },
   "file_extension": ".py",
   "mimetype": "text/x-python",
   "name": "python",
   "nbconvert_exporter": "python",
   "pygments_lexer": "ipython3",
   "version": "3.8.3"
  }
 },
 "nbformat": 4,
 "nbformat_minor": 2
}
