{
 "cells": [
  {
   "cell_type": "markdown",
   "metadata": {},
   "source": [
    "# Lab 3\n",
    "# Parametric classification\n",
    "# ---------------------------------------------------"
   ]
  },
  {
   "cell_type": "markdown",
   "metadata": {},
   "source": [
    "<h2>Table of contents </h2>\n",
    "\n",
    "<div class=\"alert alert-block alert-info\" style=\"margin-top: 20px\">\n",
    "<ol>\n",
    "    <li> Introduction</li>\n",
    "    <li> Simple logistic regression  </li>\n",
    "    <li> Multivariable logistic regression </li>\n",
    "    <li> Logistic regression with regularization </li>\n",
    "    <li> Comparison of the results obtained with the different models </li>\n",
    "</ol>\n",
    "\n",
    "</div>\n",
    "\n",
    "<hr>\n"
   ]
  },
  {
   "cell_type": "markdown",
   "metadata": {},
   "source": [
    "## 1. Introduction\n",
    "\n",
    "Assume that you want to design a parametric classification model on a set of observation, where each observation is described in terms of a set of variables. Without knowing anything else about the data set, provide a reasoned justification:\n",
    "\n",
    "(a) Explain in your own words what is the main difference between supervised learning methods and unsupervised learning methods.  Give an example of application of each type of method. Briefly describe the input and output variables you would consider in each example.\n",
    "\n",
    "b) Explain in your own words the main difference between soft and hard output of a learning model. Indicate which of the methods presented in theory provide a soft output and which provide a hard output.\n",
    "\n",
    "c) Explain the concept of overfitting and generalization. If you wish, you may support your answer with a diagram or drawing. Explain in your own words how you could make the designed model generalize well.\n",
    "\n"
   ]
  },
  {
   "cell_type": "markdown",
   "metadata": {},
   "source": [
    "For the development of this first practice we will analyze the \"Pima Indian Diabetes\" database already preprocessed, where the rows of the file correspond to the observations and the columns to the variables.\n",
    "\n",
    "For this practice, the data will be divided into two subsets: training and test. In addition, the validation scheme called k-fold cross-validation will be considered."
   ]
  },
  {
   "cell_type": "code",
   "execution_count": 1,
   "metadata": {},
   "outputs": [],
   "source": [
    "from sklearn.model_selection import cross_val_score\n",
    "from sklearn import model_selection   \n",
    "from sklearn.model_selection import KFold, cross_val_score, train_test_split\n",
    "from sklearn import metrics\n",
    "import pandas as pd\n",
    "import numpy as np\n",
    "import seaborn as sns\n",
    "import matplotlib\n",
    "from matplotlib import pyplot as plt"
   ]
  },
  {
   "cell_type": "code",
   "execution_count": 2,
   "metadata": {},
   "outputs": [],
   "source": [
    "# Load the dataset (already preprocessed)\n",
    "data = pd.read_csv(\"pima_indian_diabetes.csv\") \n",
    "\n",
    "# Define the input and the output\n",
    "data_input = data.drop(['Outcome'], axis=1) \n",
    "data_output = data['Outcome']"
   ]
  },
  {
   "cell_type": "code",
   "execution_count": 3,
   "metadata": {},
   "outputs": [
    {
     "data": {
      "text/html": [
       "<div>\n",
       "<style scoped>\n",
       "    .dataframe tbody tr th:only-of-type {\n",
       "        vertical-align: middle;\n",
       "    }\n",
       "\n",
       "    .dataframe tbody tr th {\n",
       "        vertical-align: top;\n",
       "    }\n",
       "\n",
       "    .dataframe thead th {\n",
       "        text-align: right;\n",
       "    }\n",
       "</style>\n",
       "<table border=\"1\" class=\"dataframe\">\n",
       "  <thead>\n",
       "    <tr style=\"text-align: right;\">\n",
       "      <th></th>\n",
       "      <th>Pregnancies</th>\n",
       "      <th>Glucose</th>\n",
       "      <th>BloodPressure</th>\n",
       "      <th>SkinThickness</th>\n",
       "      <th>Insulin</th>\n",
       "      <th>BMI</th>\n",
       "      <th>DiabetesPedigreeFunction</th>\n",
       "      <th>Age</th>\n",
       "    </tr>\n",
       "  </thead>\n",
       "  <tbody>\n",
       "    <tr>\n",
       "      <th>0</th>\n",
       "      <td>6</td>\n",
       "      <td>148</td>\n",
       "      <td>72</td>\n",
       "      <td>35</td>\n",
       "      <td>0</td>\n",
       "      <td>33.6</td>\n",
       "      <td>0.627</td>\n",
       "      <td>50</td>\n",
       "    </tr>\n",
       "    <tr>\n",
       "      <th>1</th>\n",
       "      <td>1</td>\n",
       "      <td>85</td>\n",
       "      <td>66</td>\n",
       "      <td>29</td>\n",
       "      <td>0</td>\n",
       "      <td>26.6</td>\n",
       "      <td>0.351</td>\n",
       "      <td>31</td>\n",
       "    </tr>\n",
       "    <tr>\n",
       "      <th>2</th>\n",
       "      <td>8</td>\n",
       "      <td>183</td>\n",
       "      <td>64</td>\n",
       "      <td>0</td>\n",
       "      <td>0</td>\n",
       "      <td>23.3</td>\n",
       "      <td>0.672</td>\n",
       "      <td>32</td>\n",
       "    </tr>\n",
       "    <tr>\n",
       "      <th>3</th>\n",
       "      <td>1</td>\n",
       "      <td>89</td>\n",
       "      <td>66</td>\n",
       "      <td>23</td>\n",
       "      <td>94</td>\n",
       "      <td>28.1</td>\n",
       "      <td>0.167</td>\n",
       "      <td>21</td>\n",
       "    </tr>\n",
       "    <tr>\n",
       "      <th>4</th>\n",
       "      <td>0</td>\n",
       "      <td>137</td>\n",
       "      <td>40</td>\n",
       "      <td>35</td>\n",
       "      <td>168</td>\n",
       "      <td>43.1</td>\n",
       "      <td>2.288</td>\n",
       "      <td>33</td>\n",
       "    </tr>\n",
       "  </tbody>\n",
       "</table>\n",
       "</div>"
      ],
      "text/plain": [
       "   Pregnancies  Glucose  BloodPressure  SkinThickness  Insulin   BMI  \\\n",
       "0            6      148             72             35        0  33.6   \n",
       "1            1       85             66             29        0  26.6   \n",
       "2            8      183             64              0        0  23.3   \n",
       "3            1       89             66             23       94  28.1   \n",
       "4            0      137             40             35      168  43.1   \n",
       "\n",
       "   DiabetesPedigreeFunction  Age  \n",
       "0                     0.627   50  \n",
       "1                     0.351   31  \n",
       "2                     0.672   32  \n",
       "3                     0.167   21  \n",
       "4                     2.288   33  "
      ]
     },
     "execution_count": 3,
     "metadata": {},
     "output_type": "execute_result"
    }
   ],
   "source": [
    "data_input.head()"
   ]
  },
  {
   "cell_type": "code",
   "execution_count": 4,
   "metadata": {},
   "outputs": [
    {
     "data": {
      "text/plain": [
       "0    1\n",
       "1    0\n",
       "2    1\n",
       "3    0\n",
       "4    1\n",
       "Name: Outcome, dtype: int64"
      ]
     },
     "execution_count": 4,
     "metadata": {},
     "output_type": "execute_result"
    }
   ],
   "source": [
    "data_output.head()"
   ]
  },
  {
   "cell_type": "code",
   "execution_count": 5,
   "metadata": {},
   "outputs": [],
   "source": [
    "# We define the training set (70% of the observations) and test set (30% of the observations).\n",
    "# We use a fixed value of Random state to obtain always the same results.\n",
    "# For more details, see the following link: https://numpy.org/doc/1.16/reference/generated/numpy.random.RandomState.html\n",
    "X_train, X_test, Y_train, Y_test = train_test_split(data_input, data_output, test_size=0.3, random_state = 42)"
   ]
  },
  {
   "cell_type": "code",
   "execution_count": 6,
   "metadata": {},
   "outputs": [
    {
     "data": {
      "text/html": [
       "<div>\n",
       "<style scoped>\n",
       "    .dataframe tbody tr th:only-of-type {\n",
       "        vertical-align: middle;\n",
       "    }\n",
       "\n",
       "    .dataframe tbody tr th {\n",
       "        vertical-align: top;\n",
       "    }\n",
       "\n",
       "    .dataframe thead th {\n",
       "        text-align: right;\n",
       "    }\n",
       "</style>\n",
       "<table border=\"1\" class=\"dataframe\">\n",
       "  <thead>\n",
       "    <tr style=\"text-align: right;\">\n",
       "      <th></th>\n",
       "      <th>Pregnancies</th>\n",
       "      <th>Glucose</th>\n",
       "      <th>BloodPressure</th>\n",
       "      <th>SkinThickness</th>\n",
       "      <th>Insulin</th>\n",
       "      <th>BMI</th>\n",
       "      <th>DiabetesPedigreeFunction</th>\n",
       "      <th>Age</th>\n",
       "    </tr>\n",
       "  </thead>\n",
       "  <tbody>\n",
       "    <tr>\n",
       "      <th>334</th>\n",
       "      <td>1</td>\n",
       "      <td>95</td>\n",
       "      <td>60</td>\n",
       "      <td>18</td>\n",
       "      <td>58</td>\n",
       "      <td>23.9</td>\n",
       "      <td>0.260</td>\n",
       "      <td>22</td>\n",
       "    </tr>\n",
       "    <tr>\n",
       "      <th>139</th>\n",
       "      <td>5</td>\n",
       "      <td>105</td>\n",
       "      <td>72</td>\n",
       "      <td>29</td>\n",
       "      <td>325</td>\n",
       "      <td>36.9</td>\n",
       "      <td>0.159</td>\n",
       "      <td>28</td>\n",
       "    </tr>\n",
       "    <tr>\n",
       "      <th>485</th>\n",
       "      <td>0</td>\n",
       "      <td>135</td>\n",
       "      <td>68</td>\n",
       "      <td>42</td>\n",
       "      <td>250</td>\n",
       "      <td>42.3</td>\n",
       "      <td>0.365</td>\n",
       "      <td>24</td>\n",
       "    </tr>\n",
       "    <tr>\n",
       "      <th>547</th>\n",
       "      <td>4</td>\n",
       "      <td>131</td>\n",
       "      <td>68</td>\n",
       "      <td>21</td>\n",
       "      <td>166</td>\n",
       "      <td>33.1</td>\n",
       "      <td>0.160</td>\n",
       "      <td>28</td>\n",
       "    </tr>\n",
       "    <tr>\n",
       "      <th>18</th>\n",
       "      <td>1</td>\n",
       "      <td>103</td>\n",
       "      <td>30</td>\n",
       "      <td>38</td>\n",
       "      <td>83</td>\n",
       "      <td>43.3</td>\n",
       "      <td>0.183</td>\n",
       "      <td>33</td>\n",
       "    </tr>\n",
       "  </tbody>\n",
       "</table>\n",
       "</div>"
      ],
      "text/plain": [
       "     Pregnancies  Glucose  BloodPressure  SkinThickness  Insulin   BMI  \\\n",
       "334            1       95             60             18       58  23.9   \n",
       "139            5      105             72             29      325  36.9   \n",
       "485            0      135             68             42      250  42.3   \n",
       "547            4      131             68             21      166  33.1   \n",
       "18             1      103             30             38       83  43.3   \n",
       "\n",
       "     DiabetesPedigreeFunction  Age  \n",
       "334                     0.260   22  \n",
       "139                     0.159   28  \n",
       "485                     0.365   24  \n",
       "547                     0.160   28  \n",
       "18                      0.183   33  "
      ]
     },
     "execution_count": 6,
     "metadata": {},
     "output_type": "execute_result"
    }
   ],
   "source": [
    "X_train.head()"
   ]
  },
  {
   "cell_type": "markdown",
   "metadata": {},
   "source": [
    "#### Define the figure of merit, for example, accuracy, sensitivity, specificity, ROC-AUC"
   ]
  },
  {
   "cell_type": "code",
   "execution_count": 7,
   "metadata": {},
   "outputs": [],
   "source": [
    "accuracy=[]\n",
    "sensitivity=[]\n",
    "specificty=[]\n",
    "auc=[]"
   ]
  },
  {
   "cell_type": "markdown",
   "metadata": {},
   "source": [
    "## 2.  Logistic regression\n",
    "\n",
    "\n",
    "(a) Design a logistic regression model using the training and test subsets described above. Clearly indicate what the desired output is.\n",
    "\n",
    "b) Comment on the confusion matrix as well as the results obtained in terms of at least two figure of merit.\n",
    "\n",
    "c) Indicate if the figure of merit obtained in the test set change after normalizing the variables.\n",
    "\n",
    "d) Justify which features are more relevant in this case.\n",
    "\n",
    "https://scikit-learn.org/stable/modules/generated/sklearn.linear_model.LogisticRegression.html"
   ]
  },
  {
   "cell_type": "code",
   "execution_count": 8,
   "metadata": {},
   "outputs": [
    {
     "name": "stdout",
     "output_type": "stream",
     "text": [
      "[-2.32124178]\n",
      "[[0.05043821]]\n",
      "Y_pred: [0 0 0 0 1 1 0 0 0 1 0 1 0 0 0 0 0 0 0 0 1 0 0 0 0 0 0 0 0 0 0 1 0 0 1 0 1\n",
      " 0 1 0 0 1 1 0 0 0 1 0 1 1 0 1 1 0 0 0 1 0 0 0 0 0 1 0 0 0 0 0 0 0 0 0 1 0\n",
      " 0 1 1 0 0 0 0 0 0 0 0 0 0 0 0 0 0 0 0 0 0 0 0 0 0 0 1 0 0 0 0 0 0 0 0 0 0\n",
      " 0 0 0 0 0 0 0 0 0 0 0 0 0 0 1 0 1 0 0 0 0 0 0 0 0 0 0 1 0 0 0 0 0 0 0 0 0\n",
      " 0 1 0 1 0 0 0 1 0 1 0 0 0 1 0 0 0 0 0 0 0 0 0 0 0 0 0 0 0 0 0 0 1 0 0 0 0\n",
      " 0 0 0 1 0 0 0 0 0 0 0 0 0 0 0 0 0 1 0 0 0 0 0 0 0 0 0 0 0 1 0 0 0 0 0 0 0\n",
      " 0 0 0 0 0 0 0 0 0] \n",
      "y_prob_pred: [[0.53802611 0.46197389]\n",
      " [0.77937697 0.22062303]\n",
      " [0.77937697 0.22062303]\n",
      " [0.64710605 0.35289395]\n",
      " [0.45000048 0.54999952]\n",
      " [0.38868104 0.61131896]\n",
      " [0.77058213 0.22941787]\n",
      " [0.52546807 0.47453193]\n",
      " [0.61183402 0.38816598]\n",
      " [0.27743075 0.72256925]\n",
      " [0.57535002 0.42464998]\n",
      " [0.33069334 0.66930666]\n",
      " [0.7023542  0.2976458 ]\n",
      " [0.53802611 0.46197389]\n",
      " [0.77058213 0.22941787]\n",
      " [0.71278973 0.28721027]\n",
      " [0.71278973 0.28721027]\n",
      " [0.7522642  0.2477358 ]\n",
      " [0.62374304 0.37625696]\n",
      " [0.7522642  0.2477358 ]\n",
      " [0.4750726  0.5249274 ]\n",
      " [0.7023542  0.2976458 ]\n",
      " [0.51287773 0.48712227]\n",
      " [0.77937697 0.22062303]\n",
      " [0.58762396 0.41237604]\n",
      " [0.56298246 0.43701754]\n",
      " [0.72300368 0.27699632]\n",
      " [0.71278973 0.28721027]\n",
      " [0.76154396 0.23845604]\n",
      " [0.5997899  0.4002101 ]\n",
      " [0.74274529 0.25725471]\n",
      " [0.25766921 0.74233079]\n",
      " [0.68084488 0.31915512]\n",
      " [0.69170351 0.30829649]\n",
      " [0.40073066 0.59926934]\n",
      " [0.65853688 0.34146312]\n",
      " [0.30875905 0.69124095]\n",
      " [0.5997899  0.4002101 ]\n",
      " [0.30875905 0.69124095]\n",
      " [0.73299046 0.26700954]\n",
      " [0.71278973 0.28721027]\n",
      " [0.30875905 0.69124095]\n",
      " [0.33069334 0.66930666]\n",
      " [0.5997899  0.4002101 ]\n",
      " [0.71278973 0.28721027]\n",
      " [0.71278973 0.28721027]\n",
      " [0.37676594 0.62323406]\n",
      " [0.72300368 0.27699632]\n",
      " [0.35338923 0.64661077]\n",
      " [0.35338923 0.64661077]\n",
      " [0.77937697 0.22062303]\n",
      " [0.41290154 0.58709846]\n",
      " [0.35338923 0.64661077]\n",
      " [0.76154396 0.23845604]\n",
      " [0.77937697 0.22062303]\n",
      " [0.76154396 0.23845604]\n",
      " [0.29809926 0.70190074]\n",
      " [0.77058213 0.22941787]\n",
      " [0.76154396 0.23845604]\n",
      " [0.56298246 0.43701754]\n",
      " [0.51287773 0.48712227]\n",
      " [0.72300368 0.27699632]\n",
      " [0.33069334 0.66930666]\n",
      " [0.52546807 0.47453193]\n",
      " [0.76154396 0.23845604]\n",
      " [0.7522642  0.2477358 ]\n",
      " [0.74274529 0.25725471]\n",
      " [0.61183402 0.38816598]\n",
      " [0.72300368 0.27699632]\n",
      " [0.71278973 0.28721027]\n",
      " [0.55053609 0.44946391]\n",
      " [0.64710605 0.35289395]\n",
      " [0.35338923 0.64661077]\n",
      " [0.7522642  0.2477358 ]\n",
      " [0.7023542  0.2976458 ]\n",
      " [0.27743075 0.72256925]\n",
      " [0.41290154 0.58709846]\n",
      " [0.58762396 0.41237604]\n",
      " [0.77058213 0.22941787]\n",
      " [0.69170351 0.30829649]\n",
      " [0.62374304 0.37625696]\n",
      " [0.77058213 0.22941787]\n",
      " [0.65853688 0.34146312]\n",
      " [0.73299046 0.26700954]\n",
      " [0.76154396 0.23845604]\n",
      " [0.62374304 0.37625696]\n",
      " [0.62374304 0.37625696]\n",
      " [0.69170351 0.30829649]\n",
      " [0.66978638 0.33021362]\n",
      " [0.74274529 0.25725471]\n",
      " [0.77058213 0.22941787]\n",
      " [0.7023542  0.2976458 ]\n",
      " [0.77058213 0.22941787]\n",
      " [0.5997899  0.4002101 ]\n",
      " [0.73299046 0.26700954]\n",
      " [0.71278973 0.28721027]\n",
      " [0.55053609 0.44946391]\n",
      " [0.7522642  0.2477358 ]\n",
      " [0.77937697 0.22062303]\n",
      " [0.56298246 0.43701754]\n",
      " [0.45000048 0.54999952]\n",
      " [0.77937697 0.22062303]\n",
      " [0.55053609 0.44946391]\n",
      " [0.7023542  0.2976458 ]\n",
      " [0.68084488 0.31915512]\n",
      " [0.71278973 0.28721027]\n",
      " [0.7522642  0.2477358 ]\n",
      " [0.68084488 0.31915512]\n",
      " [0.72300368 0.27699632]\n",
      " [0.53802611 0.46197389]\n",
      " [0.77058213 0.22941787]\n",
      " [0.77058213 0.22941787]\n",
      " [0.7522642  0.2477358 ]\n",
      " [0.53802611 0.46197389]\n",
      " [0.74274529 0.25725471]\n",
      " [0.77937697 0.22062303]\n",
      " [0.7522642  0.2477358 ]\n",
      " [0.7023542  0.2976458 ]\n",
      " [0.77058213 0.22941787]\n",
      " [0.7023542  0.2976458 ]\n",
      " [0.77937697 0.22062303]\n",
      " [0.74274529 0.25725471]\n",
      " [0.7023542  0.2976458 ]\n",
      " [0.74274529 0.25725471]\n",
      " [0.77058213 0.22941787]\n",
      " [0.29809926 0.70190074]\n",
      " [0.69170351 0.30829649]\n",
      " [0.43755106 0.56244894]\n",
      " [0.57535002 0.42464998]\n",
      " [0.61183402 0.38816598]\n",
      " [0.66978638 0.33021362]\n",
      " [0.5997899  0.4002101 ]\n",
      " [0.77937697 0.22062303]\n",
      " [0.55053609 0.44946391]\n",
      " [0.77058213 0.22941787]\n",
      " [0.66978638 0.33021362]\n",
      " [0.77058213 0.22941787]\n",
      " [0.52546807 0.47453193]\n",
      " [0.40073066 0.59926934]\n",
      " [0.76154396 0.23845604]\n",
      " [0.7522642  0.2477358 ]\n",
      " [0.74274529 0.25725471]\n",
      " [0.7023542  0.2976458 ]\n",
      " [0.77937697 0.22062303]\n",
      " [0.74274529 0.25725471]\n",
      " [0.58762396 0.41237604]\n",
      " [0.66978638 0.33021362]\n",
      " [0.77937697 0.22062303]\n",
      " [0.5997899  0.4002101 ]\n",
      " [0.46251284 0.53748716]\n",
      " [0.7522642  0.2477358 ]\n",
      " [0.36499801 0.63500199]\n",
      " [0.7023542  0.2976458 ]\n",
      " [0.58762396 0.41237604]\n",
      " [0.77937697 0.22062303]\n",
      " [0.45000048 0.54999952]\n",
      " [0.77058213 0.22941787]\n",
      " [0.27743075 0.72256925]\n",
      " [0.50027102 0.49972898]\n",
      " [0.77058213 0.22941787]\n",
      " [0.76154396 0.23845604]\n",
      " [0.48766397 0.51233603]\n",
      " [0.7522642  0.2477358 ]\n",
      " [0.77937697 0.22062303]\n",
      " [0.77058213 0.22941787]\n",
      " [0.73299046 0.26700954]\n",
      " [0.77058213 0.22941787]\n",
      " [0.72300368 0.27699632]\n",
      " [0.64710605 0.35289395]\n",
      " [0.65853688 0.34146312]\n",
      " [0.57535002 0.42464998]\n",
      " [0.71278973 0.28721027]\n",
      " [0.63550437 0.36449563]\n",
      " [0.77058213 0.22941787]\n",
      " [0.64710605 0.35289395]\n",
      " [0.72300368 0.27699632]\n",
      " [0.68084488 0.31915512]\n",
      " [0.50027102 0.49972898]\n",
      " [0.56298246 0.43701754]\n",
      " [0.66978638 0.33021362]\n",
      " [0.36499801 0.63500199]\n",
      " [0.72300368 0.27699632]\n",
      " [0.55053609 0.44946391]\n",
      " [0.72300368 0.27699632]\n",
      " [0.68084488 0.31915512]\n",
      " [0.77937697 0.22062303]\n",
      " [0.77058213 0.22941787]\n",
      " [0.71278973 0.28721027]\n",
      " [0.34195084 0.65804916]\n",
      " [0.64710605 0.35289395]\n",
      " [0.73299046 0.26700954]\n",
      " [0.72300368 0.27699632]\n",
      " [0.52546807 0.47453193]\n",
      " [0.76154396 0.23845604]\n",
      " [0.50027102 0.49972898]\n",
      " [0.74274529 0.25725471]\n",
      " [0.77937697 0.22062303]\n",
      " [0.7522642  0.2477358 ]\n",
      " [0.74274529 0.25725471]\n",
      " [0.69170351 0.30829649]\n",
      " [0.63550437 0.36449563]\n",
      " [0.7522642  0.2477358 ]\n",
      " [0.4251798  0.5748202 ]\n",
      " [0.74274529 0.25725471]\n",
      " [0.61183402 0.38816598]\n",
      " [0.76154396 0.23845604]\n",
      " [0.74274529 0.25725471]\n",
      " [0.7023542  0.2976458 ]\n",
      " [0.56298246 0.43701754]\n",
      " [0.53802611 0.46197389]\n",
      " [0.74274529 0.25725471]\n",
      " [0.73299046 0.26700954]\n",
      " [0.77058213 0.22941787]\n",
      " [0.68084488 0.31915512]\n",
      " [0.43755106 0.56244894]\n",
      " [0.77937697 0.22062303]\n",
      " [0.76154396 0.23845604]\n",
      " [0.65853688 0.34146312]\n",
      " [0.69170351 0.30829649]\n",
      " [0.61183402 0.38816598]\n",
      " [0.7522642  0.2477358 ]\n",
      " [0.62374304 0.37625696]\n",
      " [0.73299046 0.26700954]\n",
      " [0.73299046 0.26700954]\n",
      " [0.65853688 0.34146312]\n",
      " [0.56298246 0.43701754]\n",
      " [0.7522642  0.2477358 ]\n",
      " [0.73299046 0.26700954]\n",
      " [0.76154396 0.23845604]\n",
      " [0.61183402 0.38816598]\n",
      " [0.63550437 0.36449563]] \n"
     ]
    }
   ],
   "source": [
    "from sklearn import model_selection   \n",
    "from sklearn import metrics\n",
    "from sklearn.linear_model import LogisticRegression\n",
    "\n",
    "\n",
    "# Logist regressioin\n",
    "regressor = LogisticRegression()\n",
    "\n",
    "# Train the model using X_train\n",
    "regressor = regressor.fit(np.array(X_train['Age']).reshape(-1, 1), Y_train)\n",
    "\n",
    "# Show the intercept\n",
    "print(regressor.intercept_)\n",
    "\n",
    "# Show the coefficients\n",
    "print(regressor.coef_)\n",
    "\n",
    "# Predicted values in the test set\n",
    "y_pred = regressor.predict(np.array(X_test['Age']).reshape(-1,1))\n",
    "\n",
    "y_prob_pred=regressor.predict_proba(np.array(X_test['Age']).reshape(-1,1))\n",
    "\n",
    "print(f'Y_pred: {y_pred} ')\n",
    "print(f'y_prob_pred: {y_prob_pred} ')\n",
    "\n"
   ]
  },
  {
   "cell_type": "code",
   "execution_count": 9,
   "metadata": {},
   "outputs": [
    {
     "name": "stdout",
     "output_type": "stream",
     "text": [
      "[[130  21]\n",
      " [ 67  13]]\n",
      "tn: 130, fp:21, fn:67, tp:13\n",
      "Accuracy: 0.6190476190476191\n",
      "              precision    recall  f1-score   support\n",
      "\n",
      "Non-diabetic       0.66      0.86      0.75       151\n",
      "    Diabetic       0.38      0.16      0.23        80\n",
      "\n",
      "    accuracy                           0.62       231\n",
      "   macro avg       0.52      0.51      0.49       231\n",
      "weighted avg       0.56      0.62      0.57       231\n",
      "\n",
      "Sensibility: 0.1625\n"
     ]
    }
   ],
   "source": [
    "\n",
    "from sklearn.metrics import confusion_matrix\n",
    "from sklearn.metrics import accuracy_score\n",
    "from sklearn.metrics import classification_report\n",
    "from sklearn.metrics import recall_score\n",
    "\n",
    "#  Compute the confusion matrix\n",
    "cm = confusion_matrix(Y_test, y_pred)\n",
    "print(cm)\n",
    "\n",
    "tn, fp, fn, tp = confusion_matrix(Y_test, y_pred).ravel()\n",
    "print(f'tn: {tn}, fp:{fp}, fn:{fn}, tp:{tp}')\n",
    "\n",
    "# Compute the accuracy\n",
    "Accuracy=accuracy_score(Y_test, y_pred)\n",
    "print(f'Accuracy: {Accuracy}')\n",
    "\n",
    "target_names = ['Non-diabetic', 'Diabetic']\n",
    "print(classification_report(Y_test, y_pred, target_names=target_names))\n",
    "              \n",
    "#Sensibility\n",
    "Sensibility=recall_score(Y_test, y_pred)\n",
    "print(f'Sensibility: {Sensibility}')\n",
    "\n",
    "\n"
   ]
  },
  {
   "cell_type": "code",
   "execution_count": 10,
   "metadata": {},
   "outputs": [
    {
     "data": {
      "image/png": "[encoded data removed]",
      "text/plain": [
       "<Figure size 432x288 with 1 Axes>"
      ]
     },
     "metadata": {
      "needs_background": "light"
     },
     "output_type": "display_data"
    }
   ],
   "source": [
    "# Compute the AUC and the ROC\n",
    "\n",
    "fpr, tpr, threshold = metrics.roc_curve(Y_test, y_prob_pred[:,1])\n",
    "roc_auc = metrics.auc(fpr, tpr)\n",
    "\n",
    "# Plot the ROC curve\n",
    "import matplotlib.pyplot as plt\n",
    "plt.title('Receiver Operating Characteristic')\n",
    "plt.plot(fpr, tpr, 'b', label = 'AUC = %0.2f' % roc_auc)\n",
    "plt.legend(loc = 'lower right')\n",
    "plt.plot([0, 1], [0, 1],'r--')\n",
    "plt.xlim([0, 1])\n",
    "plt.ylim([0, 1])\n",
    "plt.ylabel('True Positive Rate')\n",
    "plt.xlabel('False Positive Rate')\n",
    "plt.show()\n",
    "\n"
   ]
  },
  {
   "cell_type": "code",
   "execution_count": 11,
   "metadata": {},
   "outputs": [],
   "source": [
    "# Normalize\n",
    "from sklearn.preprocessing import StandardScaler\n",
    "#from sklearn.preprocessing import MinMaxScaler\n",
    "#scaler = MinMaxScaler()\n",
    "scaler=StandardScaler()\n",
    "scalerfit =  scaler.fit(X_train)\n",
    "X_train_norm=scaler.transform(X_train)\n",
    "X_test_norm=scaler.transform(X_test)\n"
   ]
  },
  {
   "cell_type": "markdown",
   "metadata": {},
   "source": [
    "## 3. Multivariable Logistic Regression \n",
    "\n"
   ]
  },
  {
   "cell_type": "code",
   "execution_count": 12,
   "metadata": {},
   "outputs": [
    {
     "name": "stdout",
     "output_type": "stream",
     "text": [
      "[-0.87964347]\n",
      "[[ 0.18823163  1.13335776 -0.18631388 -0.02422067 -0.10468258  0.81150478\n",
      "   0.14358094  0.41370604]]\n",
      "[[120  31]\n",
      " [ 30  50]]\n",
      "tn: 120, fp:31, fn:30, tp:50\n",
      "Accuracy: 0.7359307359307359\n",
      "              precision    recall  f1-score   support\n",
      "\n",
      "Non-diabetic       0.80      0.79      0.80       151\n",
      "    Diabetic       0.62      0.62      0.62        80\n",
      "\n",
      "    accuracy                           0.74       231\n",
      "   macro avg       0.71      0.71      0.71       231\n",
      "weighted avg       0.74      0.74      0.74       231\n",
      "\n",
      "Sensibility: 0.625\n"
     ]
    }
   ],
   "source": [
    "# Normalize\n",
    "\n",
    "# Logistic regression\n",
    "regressor = LogisticRegression()\n",
    "\n",
    "# Train the model using the training data\n",
    "regressor_lrm = regressor.fit(X_train_norm, Y_train)\n",
    "\n",
    "# Show the intercept\n",
    "print(regressor_lrm.intercept_)\n",
    "\n",
    "# Show the coefficients\n",
    "print(regressor_lrm.coef_)\n",
    "\n",
    "# Compute the predicted value in the test set\n",
    "y_pred_lrm = regressor_lrm.predict(X_test_norm)\n",
    "\n",
    "#  Compute the confusion matrix\n",
    "cm = confusion_matrix(Y_test, y_pred_lrm)\n",
    "print(cm)\n",
    "\n",
    "tn, fp, fn, tp = confusion_matrix(Y_test, y_pred_lrm).ravel()\n",
    "print(f'tn: {tn}, fp:{fp}, fn:{fn}, tp:{tp}')\n",
    "\n",
    "# Compute the accuracy \n",
    "Accuracy=accuracy_score(Y_test, y_pred_lrm)\n",
    "print(f'Accuracy: {Accuracy}')\n",
    "\n",
    "target_names = ['Non-diabetic', 'Diabetic']\n",
    "print(classification_report(Y_test, y_pred_lrm, target_names=target_names))\n",
    "              \n",
    "#Sensibility\n",
    "Sensibility=recall_score(Y_test, y_pred_lrm)\n",
    "print(f'Sensibility: {Sensibility}')"
   ]
  },
  {
   "cell_type": "code",
   "execution_count": 13,
   "metadata": {},
   "outputs": [
    {
     "data": {
      "image/png": "[encoded data removed]",
      "text/plain": [
       "<Figure size 432x288 with 1 Axes>"
      ]
     },
     "metadata": {
      "needs_background": "light"
     },
     "output_type": "display_data"
    }
   ],
   "source": [
    "# Compute the AUC and the ROC\n",
    "\n",
    "fpr, tpr, threshold = metrics.roc_curve(Y_test, y_pred_lrm)\n",
    "roc_auc = metrics.auc(fpr, tpr)\n",
    "\n",
    "# Plot the ROC curve\n",
    "import matplotlib.pyplot as plt\n",
    "plt.title('Receiver Operating Characteristic')\n",
    "plt.plot(fpr, tpr, 'b', label = 'AUC = %0.2f' % roc_auc)\n",
    "plt.legend(loc = 'lower right')\n",
    "plt.plot([0, 1], [0, 1],'r--')\n",
    "plt.xlim([0, 1])\n",
    "plt.ylim([0, 1])\n",
    "plt.ylabel('True Positive Rate')\n",
    "plt.xlabel('False Positive Rate')\n",
    "plt.show()"
   ]
  },
  {
   "cell_type": "code",
   "execution_count": 14,
   "metadata": {},
   "outputs": [
    {
     "name": "stdout",
     "output_type": "stream",
     "text": [
      "[-9.39075367]\n",
      "[[ 0.05654413  0.03558456 -0.01087782 -0.00179055 -0.00098901  0.1076117\n",
      "   0.52393907  0.03582565]]\n",
      "[[121  30]\n",
      " [ 30  50]]\n",
      "tn: 121, fp:30, fn:30, tp:50\n",
      "Accuracy: 0.7402597402597403\n",
      "              precision    recall  f1-score   support\n",
      "\n",
      "Non-diabetic       0.80      0.80      0.80       151\n",
      "    Diabetic       0.62      0.62      0.62        80\n",
      "\n",
      "    accuracy                           0.74       231\n",
      "   macro avg       0.71      0.71      0.71       231\n",
      "weighted avg       0.74      0.74      0.74       231\n",
      "\n",
      "Sensibility: 0.625\n"
     ]
    },
    {
     "name": "stderr",
     "output_type": "stream",
     "text": [
      "/Users/gabriela/opt/anaconda3/lib/python3.8/site-packages/sklearn/linear_model/_logistic.py:762: ConvergenceWarning: lbfgs failed to converge (status=1):\n",
      "STOP: TOTAL NO. of ITERATIONS REACHED LIMIT.\n",
      "\n",
      "Increase the number of iterations (max_iter) or scale the data as shown in:\n",
      "    https://scikit-learn.org/stable/modules/preprocessing.html\n",
      "Please also refer to the documentation for alternative solver options:\n",
      "    https://scikit-learn.org/stable/modules/linear_model.html#logistic-regression\n",
      "  n_iter_i = _check_optimize_result(\n"
     ]
    }
   ],
   "source": [
    "# Logistic regression\n",
    "regressor = LogisticRegression()\n",
    "\n",
    "# Train the model using the training data\n",
    "regressor_lrnn = regressor.fit(X_train, Y_train)\n",
    "\n",
    "# Show the intercept\n",
    "print(regressor_lrnn.intercept_)\n",
    "\n",
    "# Show the coefficients\n",
    "print(regressor_lrnn.coef_)\n",
    "\n",
    "# Compute the predicted values for the test set\n",
    "y_pred_lrnn = regressor_lrnn.predict(X_test)\n",
    "\n",
    "#  Compute the confusion matrix\n",
    "cm = confusion_matrix(Y_test, y_pred_lrnn)\n",
    "print(cm)\n",
    "\n",
    "tn, fp, fn, tp = confusion_matrix(Y_test, y_pred_lrnn).ravel()\n",
    "print(f'tn: {tn}, fp:{fp}, fn:{fn}, tp:{tp}')\n",
    "\n",
    "# Compute the accuracy\n",
    "Accuracy=accuracy_score(Y_test, y_pred_lrnn)\n",
    "print(f'Accuracy: {Accuracy}')\n",
    "\n",
    "target_names = ['Non-diabetic', 'Diabetic']\n",
    "print(classification_report(Y_test, y_pred_lrnn, target_names=target_names))\n",
    "              \n",
    "#Sensibility\n",
    "Sensibility=recall_score(Y_test, y_pred_lrnn)\n",
    "print(f'Sensibility: {Sensibility}')"
   ]
  },
  {
   "cell_type": "code",
   "execution_count": 15,
   "metadata": {},
   "outputs": [
    {
     "data": {
      "image/png": "[encoded data removed]",
      "text/plain": [
       "<Figure size 432x288 with 1 Axes>"
      ]
     },
     "metadata": {
      "needs_background": "light"
     },
     "output_type": "display_data"
    }
   ],
   "source": [
    "# Compute the AUC and the ROC\n",
    "\n",
    "fpr, tpr, threshold = metrics.roc_curve(Y_test, y_pred_lrnn)\n",
    "roc_auc = metrics.auc(fpr, tpr)\n",
    "\n",
    "# Plot the ROC curve\n",
    "import matplotlib.pyplot as plt\n",
    "plt.title('Receiver Operating Characteristic')\n",
    "plt.plot(fpr, tpr, 'b', label = 'AUC = %0.2f' % roc_auc)\n",
    "plt.legend(loc = 'lower right')\n",
    "plt.plot([0, 1], [0, 1],'r--')\n",
    "plt.xlim([0, 1])\n",
    "plt.ylim([0, 1])\n",
    "plt.ylabel('True Positive Rate')\n",
    "plt.xlabel('False Positive Rate')\n",
    "plt.show()"
   ]
  },
  {
   "cell_type": "markdown",
   "metadata": {},
   "source": [
    "You can explore what results are obtained when: (1) you normalize the variables; (2) you discard some features based on the value of their coefficients; (3) you use other approaches such as stats."
   ]
  },
  {
   "cell_type": "markdown",
   "metadata": {},
   "source": [
    "## 4. Logistic regression with regularization"
   ]
  },
  {
   "cell_type": "markdown",
   "metadata": {},
   "source": [
    "a) Indicate whether the performance obtained in the test set changes when Ridge or Lasso regression is considered.\n",
    "\n",
    "b) Justify which characteristics are more relevant for these models."
   ]
  },
  {
   "cell_type": "code",
   "execution_count": 16,
   "metadata": {},
   "outputs": [
    {
     "name": "stdout",
     "output_type": "stream",
     "text": [
      "{'C': 0.3031272727272727, 'penalty': 'l1'}\n",
      "0.7801661474558671\n"
     ]
    }
   ],
   "source": [
    "# Logistic regression\n",
    "from sklearn.model_selection import GridSearchCV\n",
    "\n",
    "\n",
    "# C values and penalty\n",
    "parameters = grid={\"C\":np.linspace(1e-4,10,100), \"penalty\":[\"l1\",\"l2\"]}# l1 lasso l2 ridge\n",
    "\n",
    "logreg=LogisticRegression(solver='liblinear')\n",
    "logreg_cv=GridSearchCV(logreg,parameters,cv=5)\n",
    "logreg_cv.fit(X_train_norm,Y_train)\n",
    "\n",
    "\n",
    "\n",
    "# Grid search\n",
    "log_regression = GridSearchCV(logreg, parameters, scoring='accuracy', cv=5)\n",
    "\n",
    "# Train using X_train\n",
    "log_regression.fit(X_train_norm, Y_train)\n",
    "\n",
    "# We show the best value of the parameter and the score\n",
    "print(log_regression.best_params_)\n",
    "print(log_regression.best_score_)\n",
    "\n",
    "\n",
    "# The predicted output is obtained\n",
    "y_pred_reg = log_regression.predict(X_test_norm)\n",
    "\n"
   ]
  },
  {
   "cell_type": "code",
   "execution_count": 17,
   "metadata": {},
   "outputs": [
    {
     "name": "stdout",
     "output_type": "stream",
     "text": [
      "[[121  30]\n",
      " [ 33  47]]\n",
      "tn: 121, fp:30, fn:33, tp:47\n",
      "Accuracy: 0.7272727272727273\n",
      "              precision    recall  f1-score   support\n",
      "\n",
      "Non-diabetic       0.79      0.80      0.79       151\n",
      "    Diabetic       0.61      0.59      0.60        80\n",
      "\n",
      "    accuracy                           0.73       231\n",
      "   macro avg       0.70      0.69      0.70       231\n",
      "weighted avg       0.72      0.73      0.73       231\n",
      "\n",
      "Sensibility: 0.5875\n"
     ]
    }
   ],
   "source": [
    "#  Compute the confusion matrix\n",
    "cm = confusion_matrix(Y_test, y_pred_reg)\n",
    "print(cm)\n",
    "\n",
    "tn, fp, fn, tp = confusion_matrix(Y_test, y_pred_reg).ravel()\n",
    "print(f'tn: {tn}, fp:{fp}, fn:{fn}, tp:{tp}')\n",
    "\n",
    "# Compute the accuracy_score\n",
    "Accuracy=accuracy_score(Y_test, y_pred_reg)\n",
    "print(f'Accuracy: {Accuracy}')\n",
    "\n",
    "target_names = ['Non-diabetic', 'Diabetic']\n",
    "print(classification_report(Y_test, y_pred_reg, target_names=target_names))\n",
    "              \n",
    "#Sensibility\n",
    "Sensibility=recall_score(Y_test, y_pred_reg)\n",
    "print(f'Sensibility: {Sensibility}')"
   ]
  },
  {
   "cell_type": "code",
   "execution_count": 18,
   "metadata": {},
   "outputs": [
    {
     "data": {
      "image/png": "[encoded data removed]",
      "text/plain": [
       "<Figure size 432x288 with 1 Axes>"
      ]
     },
     "metadata": {
      "needs_background": "light"
     },
     "output_type": "display_data"
    }
   ],
   "source": [
    "# Compute the AUC and the ROC\n",
    "\n",
    "fpr, tpr, threshold = metrics.roc_curve(Y_test, y_pred_reg)\n",
    "roc_auc = metrics.auc(fpr, tpr)\n",
    "\n",
    "# Plot the ROC curve\n",
    "import matplotlib.pyplot as plt\n",
    "plt.title('Receiver Operating Characteristic')\n",
    "plt.plot(fpr, tpr, 'b', label = 'AUC = %0.2f' % roc_auc)\n",
    "plt.legend(loc = 'lower right')\n",
    "plt.plot([0, 1], [0, 1],'r--')\n",
    "plt.xlim([0, 1])\n",
    "plt.ylim([0, 1])\n",
    "plt.ylabel('True Positive Rate')\n",
    "plt.xlabel('False Positive Rate')\n",
    "plt.show()"
   ]
  },
  {
   "cell_type": "code",
   "execution_count": 19,
   "metadata": {},
   "outputs": [
    {
     "name": "stdout",
     "output_type": "stream",
     "text": [
      "{'C': 1}\n",
      "0.7745932848736586\n"
     ]
    }
   ],
   "source": [
    "from sklearn.linear_model import Lasso\n",
    "\n",
    "lasso = Lasso()\n",
    "\n",
    "logreg=LogisticRegression(solver='liblinear', penalty='l1')\n",
    "\n",
    "# Alpha values\n",
    "parameters = {\"C\":[1e-4, 1e-2, 1, 5, 10, 20]}\n",
    "\n",
    "# Grid search \n",
    "lasso_regression = GridSearchCV(logreg, parameters, scoring='accuracy', cv=5)\n",
    "\n",
    "# Train using the Xtrain\n",
    "lasso_train=lasso_regression.fit(X_train_norm, Y_train)\n",
    "\n",
    "print(lasso_regression.best_params_)\n",
    "print(lasso_regression.best_score_)\n",
    "\n",
    "# Compute the predicted output\n",
    "y_pred_lasso = lasso_regression.predict(X_test_norm)\n",
    "\n",
    "\n",
    "\n",
    " "
   ]
  },
  {
   "cell_type": "code",
   "execution_count": 20,
   "metadata": {},
   "outputs": [
    {
     "name": "stdout",
     "output_type": "stream",
     "text": [
      "[[120  31]\n",
      " [ 32  48]]\n",
      "tn: 120, fp:31, fn:32, tp:48\n",
      "Accuracy: 0.7272727272727273\n",
      "              precision    recall  f1-score   support\n",
      "\n",
      "Non-diabetic       0.79      0.79      0.79       151\n",
      "    Diabetic       0.61      0.60      0.60        80\n",
      "\n",
      "    accuracy                           0.73       231\n",
      "   macro avg       0.70      0.70      0.70       231\n",
      "weighted avg       0.73      0.73      0.73       231\n",
      "\n",
      "Sensibility: 0.6\n"
     ]
    }
   ],
   "source": [
    "#  Compute the confusion matrix\n",
    "cm = confusion_matrix(Y_test, y_pred_lasso)\n",
    "print(cm)\n",
    "\n",
    "tn, fp, fn, tp = confusion_matrix(Y_test, y_pred_lasso).ravel()\n",
    "print(f'tn: {tn}, fp:{fp}, fn:{fn}, tp:{tp}')\n",
    "\n",
    "# Compute the accuracy_score\n",
    "Accuracy=accuracy_score(Y_test, y_pred_lasso)\n",
    "print(f'Accuracy: {Accuracy}')\n",
    "\n",
    "target_names = ['Non-diabetic', 'Diabetic']\n",
    "print(classification_report(Y_test, y_pred_lasso, target_names=target_names))\n",
    "              \n",
    "#Sensibility\n",
    "Sensibility=recall_score(Y_test, y_pred_lasso)\n",
    "print(f'Sensibility: {Sensibility}')"
   ]
  },
  {
   "cell_type": "code",
   "execution_count": 21,
   "metadata": {},
   "outputs": [
    {
     "data": {
      "image/png": "[encoded data removed]",
      "text/plain": [
       "<Figure size 432x288 with 1 Axes>"
      ]
     },
     "metadata": {
      "needs_background": "light"
     },
     "output_type": "display_data"
    }
   ],
   "source": [
    "# Compute the AUC and the ROC\n",
    "\n",
    "fpr, tpr, threshold = metrics.roc_curve(Y_test, y_pred_lasso)\n",
    "roc_auc = metrics.auc(fpr, tpr)\n",
    "\n",
    "# Plot the ROC curve\n",
    "import matplotlib.pyplot as plt\n",
    "plt.title('Receiver Operating Characteristic')\n",
    "plt.plot(fpr, tpr, 'b', label = 'AUC = %0.2f' % roc_auc)\n",
    "plt.legend(loc = 'lower right')\n",
    "plt.plot([0, 1], [0, 1],'r--')\n",
    "plt.xlim([0, 1])\n",
    "plt.ylim([0, 1])\n",
    "plt.ylabel('True Positive Rate')\n",
    "plt.xlabel('False Positive Rate')\n",
    "plt.show()"
   ]
  },
  {
   "cell_type": "markdown",
   "metadata": {},
   "source": [
    "## 5. Comparison of the results obtained with the different models\n"
   ]
  },
  {
   "cell_type": "markdown",
   "metadata": {},
   "source": [
    "Include in a table the performances of the test set obtained according to different figures of merit:\n",
    "\n",
    "In view of the results obtained, answer, if possible, the following questions:\n",
    "\n",
    "(a) Justify with which scheme of those analyzed you obtain better performances in the test set.\n",
    "\n",
    "b) Justify the influence of the regularization parameter on the results obtained.\n",
    "\n",
    "c) Justify reasonably if the fact of making a single partition of the cases in the training and test sets can influence the results obtained.\n",
    "\n",
    "d) Starting from the original data, perform a new partition of the cases in the training and test sets. Select one of the classifiers analyzed (indicate the classifier chosen) and obtain again the confusion matrix and the evaluation measures. Comment on the results obtained.\n"
   ]
  },
  {
   "cell_type": "code",
   "execution_count": null,
   "metadata": {},
   "outputs": [],
   "source": []
  }
 ],
 "metadata": {
  "kernelspec": {
   "display_name": "Python 3",
   "language": "python",
   "name": "python3"
  },
  "language_info": {
   "codemirror_mode": {
    "name": "ipython",
    "version": 3
   },
   "file_extension": ".py",
   "mimetype": "text/x-python",
   "name": "python",
   "nbconvert_exporter": "python",
   "pygments_lexer": "ipython3",
   "version": "3.8.3"
  }
 },
 "nbformat": 4,
 "nbformat_minor": 2
}
